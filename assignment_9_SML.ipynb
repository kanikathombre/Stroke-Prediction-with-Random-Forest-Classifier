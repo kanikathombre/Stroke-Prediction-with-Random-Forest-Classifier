{
  "nbformat": 4,
  "nbformat_minor": 0,
  "metadata": {
    "colab": {
      "provenance": []
    },
    "kernelspec": {
      "name": "python3",
      "display_name": "Python 3"
    },
    "language_info": {
      "name": "python"
    }
  },
  "cells": [
    {
      "cell_type": "code",
      "execution_count": null,
      "metadata": {
        "id": "qHIi6dcy0kxF"
      },
      "outputs": [],
      "source": [
        "import pandas as pd\n",
        "import numpy as np\n",
        "from sklearn.model_selection import train_test_split\n",
        "from sklearn.ensemble import RandomForestClassifier\n",
        "from sklearn.metrics import accuracy_score, mean_squared_error, mean_absolute_error\n",
        "import matplotlib.pyplot as plt\n",
        "import seaborn as sns\n",
        "import zipfile"
      ]
    },
    {
      "cell_type": "code",
      "source": [
        "with zipfile.ZipFile(\"/content/full_data (1).xlsx.zip\", 'r') as zip_ref:\n",
        "    zip_ref.extractall(\"/content/\")\n",
        "\n",
        "data = pd.read_excel(\"/content/full_data (1).xlsx\")"
      ],
      "metadata": {
        "id": "89WdX3Hh0xTh"
      },
      "execution_count": null,
      "outputs": []
    },
    {
      "cell_type": "code",
      "source": [
        "print(data.head())\n",
        "\n",
        "\n",
        "print(data.describe())\n",
        "\n",
        "# Check for missing values\n",
        "print(data.isnull().sum())"
      ],
      "metadata": {
        "colab": {
          "base_uri": "https://localhost:8080/"
        },
        "id": "337a33Ha1Jar",
        "outputId": "5609e9c8-dc67-4d53-ccf6-824e9ef94097"
      },
      "execution_count": null,
      "outputs": [
        {
          "output_type": "stream",
          "name": "stdout",
          "text": [
            "   gender   age  hypertension  heart_disease ever_married      work_type  \\\n",
            "0    Male  67.0             0              1          Yes        Private   \n",
            "1    Male  80.0             0              1          Yes        Private   \n",
            "2  Female  49.0             0              0          Yes        Private   \n",
            "3  Female  79.0             1              0          Yes  Self-employed   \n",
            "4    Male  81.0             0              0          Yes        Private   \n",
            "\n",
            "  Residence_type  avg_glucose_level   bmi   smoking_status  stroke  \n",
            "0          Urban             228.69  36.6  formerly smoked       1  \n",
            "1          Rural             105.92  32.5     never smoked       1  \n",
            "2          Urban             171.23  34.4           smokes       1  \n",
            "3          Rural             174.12  24.0     never smoked       1  \n",
            "4          Urban             186.21  29.0  formerly smoked       1  \n",
            "               age  hypertension  heart_disease  avg_glucose_level  \\\n",
            "count  4981.000000   4981.000000    4981.000000        4981.000000   \n",
            "mean     43.419859      0.096165       0.055210         105.943562   \n",
            "std      22.662755      0.294848       0.228412          45.075373   \n",
            "min       0.080000      0.000000       0.000000          55.120000   \n",
            "25%      25.000000      0.000000       0.000000          77.230000   \n",
            "50%      45.000000      0.000000       0.000000          91.850000   \n",
            "75%      61.000000      0.000000       0.000000         113.860000   \n",
            "max      82.000000      1.000000       1.000000         271.740000   \n",
            "\n",
            "               bmi       stroke  \n",
            "count  4981.000000  4981.000000  \n",
            "mean     28.498173     0.049789  \n",
            "std       6.790464     0.217531  \n",
            "min      14.000000     0.000000  \n",
            "25%      23.700000     0.000000  \n",
            "50%      28.100000     0.000000  \n",
            "75%      32.600000     0.000000  \n",
            "max      48.900000     1.000000  \n",
            "gender               0\n",
            "age                  0\n",
            "hypertension         0\n",
            "heart_disease        0\n",
            "ever_married         0\n",
            "work_type            0\n",
            "Residence_type       0\n",
            "avg_glucose_level    0\n",
            "bmi                  0\n",
            "smoking_status       0\n",
            "stroke               0\n",
            "dtype: int64\n"
          ]
        }
      ]
    },
    {
      "cell_type": "code",
      "source": [
        "# Visualize the distribution of the target variable (stroke)\n",
        "sns.countplot(data['stroke'])\n",
        "plt.title('Distribution of Stroke')\n",
        "plt.show()"
      ],
      "metadata": {
        "id": "C6ghDmuzpzhG"
      },
      "execution_count": null,
      "outputs": []
    },
    {
      "cell_type": "code",
      "source": [
        "# One-hot encode categorical variables\n",
        "data_encoded = pd.get_dummies(data)\n",
        "\n",
        "# Visualize the correlation matrix\n",
        "plt.figure(figsize=(10, 8))\n",
        "sns.heatmap(data_encoded.corr(), annot=True, cmap='coolwarm', fmt=\".2f\")\n",
        "plt.title('Correlation Matrix')\n",
        "plt.show()"
      ],
      "metadata": {
        "id": "JVc4TiUup059"
      },
      "execution_count": null,
      "outputs": []
    },
    {
      "cell_type": "code",
      "source": [
        "# Check for categorical columns\n",
        "categorical_columns = data.select_dtypes(include=['object', 'category']).columns\n",
        "\n",
        "# Print the list of categorical columns\n",
        "print(\"Categorical columns:\", categorical_columns)\n"
      ],
      "metadata": {
        "id": "Mr-MCObLqITP"
      },
      "execution_count": null,
      "outputs": []
    },
    {
      "cell_type": "code",
      "source": [
        "# Check unique values of all columns\n",
        "for col in data.columns:\n",
        "    print(col, data[col].unique())\n"
      ],
      "metadata": {
        "id": "gvbLqt1FqJJF"
      },
      "execution_count": null,
      "outputs": []
    },
    {
      "cell_type": "code",
      "source": [
        "# One-hot encode categorical variables\n",
        "data_encoded = pd.get_dummies(data, columns=categorical_columns)\n"
      ],
      "metadata": {
        "id": "bZ7qwKt7IHF4"
      },
      "execution_count": null,
      "outputs": []
    },
    {
      "cell_type": "code",
      "source": [
        "# Check the data types of each column\n",
        "print(data.dtypes)\n"
      ],
      "metadata": {
        "id": "eiaYjmkSqLPF"
      },
      "execution_count": null,
      "outputs": []
    },
    {
      "cell_type": "code",
      "source": [
        "# One-hot encode categorical variables\n",
        "data_encoded = pd.get_dummies(data, columns=['gender', 'ever_married', 'work_type', 'Residence_type', 'smoking_status'])\n"
      ],
      "metadata": {
        "id": "LqliTPFEFiSU"
      },
      "execution_count": null,
      "outputs": []
    },
    {
      "cell_type": "code",
      "source": [
        "# Convert categorical columns to 'category' data type\n",
        "categorical_columns = ['gender', 'ever_married', 'work_type', 'Residence_type', 'smoking_status']\n",
        "for col in categorical_columns:\n",
        "    data[col] = data[col].astype('category')\n",
        "\n",
        "# One-hot encode categorical variables\n",
        "data_encoded = pd.get_dummies(data, columns=categorical_columns)\n"
      ],
      "metadata": {
        "id": "M7HKFWOSI_N6"
      },
      "execution_count": null,
      "outputs": []
    },
    {
      "cell_type": "code",
      "source": [
        "# Preprocessing: Handle missing values, categorical variables, etc.\n",
        "\n",
        "# Assuming 'stroke' is the target variable\n",
        "X = data.drop('stroke', axis=1)\n",
        "y = data['stroke']"
      ],
      "metadata": {
        "id": "z24PtZjaEz4l"
      },
      "execution_count": null,
      "outputs": []
    },
    {
      "cell_type": "code",
      "source": [
        "X_train_60, X_test_60, y_train_60, y_test_60 = train_test_split(X, y, test_size=0.4, random_state=42)\n",
        "X_train_70, X_test_70, y_train_70, y_test_70 = train_test_split(X, y, test_size=0.3, random_state=42)"
      ],
      "metadata": {
        "id": "uwjJPf3LFBzQ"
      },
      "execution_count": null,
      "outputs": []
    },
    {
      "cell_type": "code",
      "source": [
        "def train_evaluate_model(X_train, X_test, y_train, y_test, n_estimators, n_jobs):\n",
        "    rf_classifier = RandomForestClassifier(n_estimators=n_estimators, n_jobs=n_jobs, random_state=42)\n",
        "    rf_classifier.fit(X_train, y_train)\n",
        "    y_pred = rf_classifier.predict(X_test)\n",
        "    accuracy = accuracy_score(y_test, y_pred)\n",
        "    mse = mean_squared_error(y_test, y_pred)\n",
        "    rmse = np.sqrt(mse)\n",
        "    mae = mean_absolute_error(y_test, y_pred)\n",
        "    return accuracy, mse, rmse, mae"
      ],
      "metadata": {
        "id": "cu2p7gICpOmG"
      },
      "execution_count": null,
      "outputs": []
    },
    {
      "cell_type": "code",
      "source": [
        "def plot_performance_variation(x_values, y_values, xlabel, ylabel, title):\n",
        "    plt.figure(figsize=(8, 6))\n",
        "    plt.plot(x_values, y_values, marker='o', linestyle='-')\n",
        "    plt.xlabel(xlabel)\n",
        "    plt.ylabel(ylabel)\n",
        "    plt.title(title)\n",
        "    plt.grid(True)\n",
        "    plt.show()"
      ],
      "metadata": {
        "id": "A0PFaPFopPrt"
      },
      "execution_count": null,
      "outputs": []
    },
    {
      "cell_type": "code",
      "source": [
        "train_test_ratios = [(0.6, 0.4), (0.7, 0.3)]\n",
        "estimators_jobs_combinations = [(50, -1), (100, -1), (50, 2)]\n",
        "accuracies = []\n",
        "mses = []\n",
        "rmes = []\n",
        "maes = []\n",
        "\n",
        "for train_ratio, test_ratio in train_test_ratios:\n",
        "    X_train, X_test, y_train, y_test = train_test_split(X, y, test_size=test_ratio, random_state=42)\n",
        "    for n_estimators, n_jobs in estimators_jobs_combinations:\n",
        "        accuracy, mse, rmse, mae = train_evaluate_model(X_train, X_test, y_train, y_test, n_estimators, n_jobs)\n",
        "        accuracies.append(accuracy)\n",
        "        mses.append(mse)\n",
        "        rmes.append(rmse)\n",
        "        maes.append(mae)\n"
      ],
      "metadata": {
        "id": "A7lEczyspQil"
      },
      "execution_count": null,
      "outputs": []
    },
    {
      "cell_type": "code",
      "source": [
        "# Plotting the variation in mean squared error:\n",
        "plot_performance_variation(range(len(mses)), mses, 'Combinations', 'Mean Squared Error', 'Mean Squared Error Fluctuations')\n",
        "\n",
        "# Plotting the variation in root mean squared error:\n",
        "plot_performance_variation(range(len(rmes)), rmes, 'Combinations', 'Root Mean Squared Error', 'Root Mean Squared Error Shifts')\n",
        "\n",
        "# Plotting the variation in mean absolute error:\n",
        "plot_performance_variation(range(len(maes)), maes, 'Combinations', 'Mean Absolute Error', 'Mean Absolute Error Oscillations')\n",
        "\n",
        "# Plotting the variation in accuracy with different combinations:\n",
        "plot_performance_variation(range(len(accuracies)), accuracies, 'Combinations', 'Accuracy', 'Accuracy Changes')\n",
        "\n",
        "# Creating labels for estimators and jobs combinations:\n",
        "estimators_jobs_labels = [f\"Estimators: {n_estimators}, Jobs: {n_jobs}\" for n_estimators, n_jobs in estimators_jobs_combinations]\n",
        "\n",
        "# Plotting mean squared error variation with estimators and jobs:\n",
        "plot_performance_variation(estimators_jobs_labels, mses[-len(estimators_jobs_combinations):], 'Estimators & Jobs', 'Mean Squared Error', 'Mean Squared Error Cha\n"
      ],
      "metadata": {
        "id": "rEeriiwypA4F"
      },
      "execution_count": null,
      "outputs": []
    }
  ]
}